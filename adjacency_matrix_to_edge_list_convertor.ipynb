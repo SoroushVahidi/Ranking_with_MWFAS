{
 "cells": [
  {
   "cell_type": "code",
   "execution_count": 7,
   "id": "1a8adfa0-1285-47d7-99fd-3dbab0539925",
   "metadata": {},
   "outputs": [],
   "source": [
    "import pandas as pd\n",
    "\n",
    "# Load the adjacency matrix\n",
    "adj_matrix_path = \"History_FM_All.csv\"  # Replace with your file's path\n",
    "adj_matrix = pd.read_csv(adj_matrix_path, header=None)\n",
    "\n",
    "# Extract positive edges\n",
    "positive_edges = []\n",
    "for source in range(adj_matrix.shape[0]):\n",
    "    for destination in range(adj_matrix.shape[1]):\n",
    "        weight = adj_matrix.iloc[source, destination]\n",
    "        if weight > 0:\n",
    "            positive_edges.append((source, destination, weight))\n",
    "\n",
    "# Save the positive edges to a text file\n",
    "output_file_path = adj_matrix_path[:-3]+\"txt\"  # Replace with your desired output path\n",
    "with open(output_file_path, \"w\") as file:\n",
    "    for edge in positive_edges:\n",
    "        file.write(f\"{edge[0]} {edge[1]} {edge[2]}\\n\")\n"
   ]
  },
  {
   "cell_type": "code",
   "execution_count": null,
   "id": "3da8f3eb-46e4-4b56-93bb-69cbd05369f2",
   "metadata": {},
   "outputs": [],
   "source": []
  },
  {
   "cell_type": "code",
   "execution_count": null,
   "id": "bb0add24-31eb-4403-bd08-163c8cb7cf63",
   "metadata": {},
   "outputs": [],
   "source": []
  }
 ],
 "metadata": {
  "kernelspec": {
   "display_name": "Python 3 (ipykernel)",
   "language": "python",
   "name": "python3"
  },
  "language_info": {
   "codemirror_mode": {
    "name": "ipython",
    "version": 3
   },
   "file_extension": ".py",
   "mimetype": "text/x-python",
   "name": "python",
   "nbconvert_exporter": "python",
   "pygments_lexer": "ipython3",
   "version": "3.12.4"
  }
 },
 "nbformat": 4,
 "nbformat_minor": 5
}
