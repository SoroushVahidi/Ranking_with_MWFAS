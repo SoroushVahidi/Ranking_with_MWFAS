{
 "cells": [
  {
   "cell_type": "code",
   "execution_count": 12,
   "id": "1a8adfa0-1285-47d7-99fd-3dbab0539925",
   "metadata": {},
   "outputs": [
    {
     "name": "stderr",
     "output_type": "stream",
     "text": [
      "/var/folders/3w/1xtbq_g17n11r2xwm2fv64fh0000gn/T/ipykernel_4793/2148796269.py:5: DtypeWarning: Columns (3) have mixed types. Specify dtype option on import or set low_memory=False.\n",
      "  adj_matrix = pd.read_csv(adj_matrix_path, header=None)\n"
     ]
    },
    {
     "ename": "TypeError",
     "evalue": "'>' not supported between instances of 'str' and 'int'",
     "output_type": "error",
     "traceback": [
      "\u001b[0;31m---------------------------------------------------------------------------\u001b[0m",
      "\u001b[0;31mTypeError\u001b[0m                                 Traceback (most recent call last)",
      "Cell \u001b[0;32mIn[12], line 12\u001b[0m\n\u001b[1;32m     10\u001b[0m     \u001b[38;5;28;01mfor\u001b[39;00m destination \u001b[38;5;129;01min\u001b[39;00m \u001b[38;5;28mrange\u001b[39m(adj_matrix\u001b[38;5;241m.\u001b[39mshape[\u001b[38;5;241m1\u001b[39m]):\n\u001b[1;32m     11\u001b[0m         weight \u001b[38;5;241m=\u001b[39m adj_matrix\u001b[38;5;241m.\u001b[39miloc[source, destination]\n\u001b[0;32m---> 12\u001b[0m         \u001b[38;5;28;01mif\u001b[39;00m weight \u001b[38;5;241m>\u001b[39m \u001b[38;5;241m0\u001b[39m :\n\u001b[1;32m     13\u001b[0m             positive_edges\u001b[38;5;241m.\u001b[39mappend((source, destination, weight))\n\u001b[1;32m     15\u001b[0m \u001b[38;5;66;03m# Save the positive edges to a text file\u001b[39;00m\n",
      "\u001b[0;31mTypeError\u001b[0m: '>' not supported between instances of 'str' and 'int'"
     ]
    }
   ],
   "source": [
    "import pandas as pd\n",
    "\n",
    "# Load the adjacency matrix\n",
    "adj_matrix_path = \"finance_data.csv\"  # Replace with your file's path\n",
    "adj_matrix = pd.read_csv(adj_matrix_path, header=None)\n",
    "\n",
    "# Extract positive edges\n",
    "positive_edges = []\n",
    "for source in range(adj_matrix.shape[0]):\n",
    "    for destination in range(adj_matrix.shape[1]):\n",
    "        weight = adj_matrix.iloc[source, destination]\n",
    "        if weight > 0 :\n",
    "            positive_edges.append((source, destination, weight))\n",
    "\n",
    "# Save the positive edges to a text file\n",
    "output_file_path = adj_matrix_path[:-3]+\"txt\"  # Replace with your desired output path\n",
    "with open(output_file_path, \"w\") as file:\n",
    "    for edge in positive_edges:\n",
    "        file.write(f\"{edge[0]} {edge[1]} {edge[2]}\\n\")\n"
   ]
  },
  {
   "cell_type": "code",
   "execution_count": 8,
   "id": "3da8f3eb-46e4-4b56-93bb-69cbd05369f2",
   "metadata": {},
   "outputs": [],
   "source": [
    "    import numpy as np\n",
    "    from scipy.sparse import csr_matrix\n",
    "\n",
    "# Path to the .npz file\n",
    "#for i in range(1985,2015):\n",
    "    adj_matrix_path = \"England_2014_2015\"+\"adj.npz\"  # Replace with your file's path\n",
    "\n",
    "# Load the .npz file\n",
    "    npz_data = np.load(adj_matrix_path)\n",
    "    adj_matrix = csr_matrix(\n",
    "        (npz_data['data'], npz_data['indices'], npz_data['indptr']),\n",
    "        shape=tuple(npz_data['shape'])\n",
    "    )\n",
    "\n",
    "# Extract positive edges\n",
    "    positive_edges = []\n",
    "    rows, cols = adj_matrix.nonzero()\n",
    "    for row, col in zip(rows, cols):\n",
    "        weight = adj_matrix[row, col]\n",
    "        if weight > 0 and row!=col:\n",
    "            positive_edges.append((row, col, weight))\n",
    "\n",
    "# Save the positive edges to a text file\n",
    "    output_file_path = adj_matrix_path[:-3] + \"txt\"  # Replace with your desired output path\n",
    "    with open(output_file_path, \"w\") as file:\n",
    "        for edge in positive_edges:\n",
    "            file.write(f\"{edge[0]} {edge[1]} {edge[2]}\\n\")\n"
   ]
  },
  {
   "cell_type": "code",
   "execution_count": 2,
   "id": "bb0add24-31eb-4403-bd08-163c8cb7cf63",
   "metadata": {},
   "outputs": [],
   "source": [
    "def check_graph_properties(file_path):\n",
    "    # Create a dictionary to track edges\n",
    "    edges = {}\n",
    "    # Read the file\n",
    "    with open(file_path, 'r') as file:\n",
    "        for line in file:\n",
    "            # Parse the line\n",
    "            data = line.strip().split()\n",
    "            if len(data) != 3:\n",
    "                continue  # Skip invalid lines\n",
    "            source, destination, weight = int(data[0]), int(data[1]), float(data[2])\n",
    "            # Check for self-loops\n",
    "            if source == destination:\n",
    "                print(f\"Self-loop detected: ({source}, {destination}, {weight})\")\n",
    "            # Check for parallel edges\n",
    "            edge_key = (source, destination)\n",
    "            other_edge_key=(destination,source)\n",
    "            if edge_key in edges or other_edge_key in edges:\n",
    "              #  print(f\"Parallel edge detected: ({source}, {destination}) with weights {edges[edge_key]} and {weight}\")\n",
    "                print(\"parallel edge detected\")\n",
    "            else:\n",
    "                edges[edge_key] = weight\n",
    "\n",
    "# File path\n",
    "file_path = \"England 2009 2010.txt\"\n",
    "check_graph_properties(file_path)\n"
   ]
  },
  {
   "cell_type": "code",
   "execution_count": null,
   "id": "c7330c70-da85-4189-814c-e27a697a9347",
   "metadata": {},
   "outputs": [],
   "source": []
  }
 ],
 "metadata": {
  "kernelspec": {
   "display_name": "Python 3 (ipykernel)",
   "language": "python",
   "name": "python3"
  },
  "language_info": {
   "codemirror_mode": {
    "name": "ipython",
    "version": 3
   },
   "file_extension": ".py",
   "mimetype": "text/x-python",
   "name": "python",
   "nbconvert_exporter": "python",
   "pygments_lexer": "ipython3",
   "version": "3.12.2"
  }
 },
 "nbformat": 4,
 "nbformat_minor": 5
}
